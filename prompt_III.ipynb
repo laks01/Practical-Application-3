{
 "cells": [
  {
   "cell_type": "markdown",
   "metadata": {},
   "source": [
    "# Practical Application III: Comparing Classifiers\n",
    "\n",
    "**Overview**: In this practical application, your goal is to compare the performance of the classifiers we encountered in this section, namely K Nearest Neighbor, Logistic Regression, Decision Trees, and Support Vector Machines.  We will utilize a dataset related to marketing bank products over the telephone.  \n",
    "\n"
   ]
  },
  {
   "cell_type": "markdown",
   "metadata": {},
   "source": [
    "### Getting Started\n",
    "\n",
    "Our dataset comes from the UCI Machine Learning repository [link](https://archive.ics.uci.edu/ml/datasets/bank+marketing).  The data is from a Portugese banking institution and is a collection of the results of multiple marketing campaigns.  We will make use of the article accompanying the dataset [here](CRISP-DM-BANK.pdf) for more information on the data and features.\n",
    "\n"
   ]
  },
  {
   "cell_type": "markdown",
   "metadata": {},
   "source": [
    "### Problem 1: Understanding the Data\n",
    "\n",
    "To gain a better understanding of the data, please read the information provided in the UCI link above, and examine the **Materials and Methods** section of the paper.  How many marketing campaigns does this data represent?"
   ]
  },
  {
   "cell_type": "code",
   "execution_count": null,
   "metadata": {},
   "outputs": [],
   "source": []
  },
  {
   "cell_type": "markdown",
   "metadata": {},
   "source": [
    "### Problem 2: Read in the Data\n",
    "\n",
    "Use pandas to read in the dataset `bank-additional-full.csv` and assign to a meaningful variable name."
   ]
  },
  {
   "cell_type": "code",
   "execution_count": null,
   "metadata": {},
   "outputs": [],
   "source": [
    "import pandas as pd\n",
    "import numpy as np\n",
    "import matplotlib.pyplot as plt\n",
    "from tqdm import tqdm\n",
    "import seaborn as sns\n",
    "import plotly.express as px\n",
    "from sklearn import preprocessing\n",
    "from sklearn.datasets import load_digits\n",
    "from sklearn.preprocessing import LabelEncoder\n",
    "from sklearn.model_selection import train_test_split, GridSearchCV\n",
    "from sklearn.linear_model import BayesianRidge, LogisticRegression\n",
    "from sklearn.model_selection import train_test_split, GridSearchCV\n",
    "from sklearn import metrics\n",
    "from sklearn.metrics import classification_report, confusion_matrix\n",
    "from sklearn.dummy import DummyClassifier\n",
    "from sklearn.tree import DecisionTreeClassifier\n",
    "from sklearn.ensemble import RandomForestClassifier\n",
    "from sklearn.neighbors import KNeighborsClassifier\n",
    "from time import time\n",
    "from sklearn.metrics import confusion_matrix\n",
    "from sklearn.metrics import ConfusionMatrixDisplay\n",
    "from sklearn.svm import SVC"
   ]
  },
  {
   "cell_type": "code",
   "execution_count": null,
   "metadata": {},
   "outputs": [],
   "source": [
    "df = pd.read_csv('data/bank-additional-full.csv', sep = ';')"
   ]
  },
  {
   "cell_type": "code",
   "execution_count": null,
   "metadata": {},
   "outputs": [],
   "source": [
    "df.head()"
   ]
  },
  {
   "cell_type": "markdown",
   "metadata": {},
   "source": [
    "### Problem 3: Understanding the Features\n",
    "\n",
    "\n",
    "Examine the data description below, and determine if any of the features are missing values or need to be coerced to a different data type.\n",
    "\n",
    "\n",
    "```\n",
    "Input variables:\n",
    "# bank client data:\n",
    "1 - age (numeric)\n",
    "2 - job : type of job (categorical: 'admin.','blue-collar','entrepreneur','housemaid','management','retired','self-employed','services','student','technician','unemployed','unknown')\n",
    "3 - marital : marital status (categorical: 'divorced','married','single','unknown'; note: 'divorced' means divorced or widowed)\n",
    "4 - education (categorical: 'basic.4y','basic.6y','basic.9y','high.school','illiterate','professional.course','university.degree','unknown')\n",
    "5 - default: has credit in default? (categorical: 'no','yes','unknown')\n",
    "6 - housing: has housing loan? (categorical: 'no','yes','unknown')\n",
    "7 - loan: has personal loan? (categorical: 'no','yes','unknown')\n",
    "# related with the last contact of the current campaign:\n",
    "8 - contact: contact communication type (categorical: 'cellular','telephone')\n",
    "9 - month: last contact month of year (categorical: 'jan', 'feb', 'mar', ..., 'nov', 'dec')\n",
    "10 - day_of_week: last contact day of the week (categorical: 'mon','tue','wed','thu','fri')\n",
    "11 - duration: last contact duration, in seconds (numeric). Important note: this attribute highly affects the output target (e.g., if duration=0 then y='no'). Yet, the duration is not known before a call is performed. Also, after the end of the call y is obviously known. Thus, this input should only be included for benchmark purposes and should be discarded if the intention is to have a realistic predictive model.\n",
    "# other attributes:\n",
    "12 - campaign: number of contacts performed during this campaign and for this client (numeric, includes last contact)\n",
    "13 - pdays: number of days that passed by after the client was last contacted from a previous campaign (numeric; 999 means client was not previously contacted)\n",
    "14 - previous: number of contacts performed before this campaign and for this client (numeric)\n",
    "15 - poutcome: outcome of the previous marketing campaign (categorical: 'failure','nonexistent','success')\n",
    "# social and economic context attributes\n",
    "16 - emp.var.rate: employment variation rate - quarterly indicator (numeric)\n",
    "17 - cons.price.idx: consumer price index - monthly indicator (numeric)\n",
    "18 - cons.conf.idx: consumer confidence index - monthly indicator (numeric)\n",
    "19 - euribor3m: euribor 3 month rate - daily indicator (numeric)\n",
    "20 - nr.employed: number of employees - quarterly indicator (numeric)\n",
    "\n",
    "Output variable (desired target):\n",
    "21 - y - has the client subscribed a term deposit? (binary: 'yes','no')\n",
    "```\n",
    "\n"
   ]
  },
  {
   "cell_type": "code",
   "execution_count": null,
   "metadata": {},
   "outputs": [],
   "source": [
    "df.isnull().sum()"
   ]
  },
  {
   "cell_type": "code",
   "execution_count": null,
   "metadata": {},
   "outputs": [],
   "source": [
    "df.shape"
   ]
  },
  {
   "cell_type": "markdown",
   "metadata": {},
   "source": [
    "### Problem 4: Understanding the Task\n",
    "\n",
    "After examining the description and data, your goal now is to clearly state the *Business Objective* of the task.  State the objective below."
   ]
  },
  {
   "cell_type": "code",
   "execution_count": null,
   "metadata": {},
   "outputs": [],
   "source": [
    "df.info()"
   ]
  },
  {
   "cell_type": "code",
   "execution_count": null,
   "metadata": {},
   "outputs": [],
   "source": [
    "df.hist(bins=35,figsize=(10,20))"
   ]
  },
  {
   "cell_type": "code",
   "execution_count": null,
   "metadata": {},
   "outputs": [],
   "source": [
    "# create Correlation Matrix to understand the correlation between numeric columns\n",
    "df.corr()"
   ]
  },
  {
   "cell_type": "code",
   "execution_count": null,
   "metadata": {},
   "outputs": [],
   "source": [
    "fig, ax = plt.subplots(figsize=(20,10))\n",
    "sns.heatmap(df.corr(), annot=True)"
   ]
  },
  {
   "cell_type": "code",
   "execution_count": null,
   "metadata": {},
   "outputs": [],
   "source": [
    "df.info()"
   ]
  },
  {
   "cell_type": "code",
   "execution_count": null,
   "metadata": {},
   "outputs": [],
   "source": [
    "num_col = ['age', 'duration', 'campaign', 'pdays', 'previous', 'emp.var.rate', 'cons.price.idx', 'cons.conf.idx','euribor3', 'nr.epmployed']\n",
    "cat_cols = ['job', 'marital', 'education', 'default', 'housing', 'loan', 'contact','month', 'day_of_week', 'poutcome', 'y']"
   ]
  },
  {
   "cell_type": "code",
   "execution_count": null,
   "metadata": {},
   "outputs": [],
   "source": [
    "df[\"age\"].hist(bins=10)"
   ]
  },
  {
   "cell_type": "code",
   "execution_count": null,
   "metadata": {},
   "outputs": [],
   "source": [
    "print(df[\"age\"].max())\n",
    "print(df[\"age\"].min())"
   ]
  },
  {
   "cell_type": "code",
   "execution_count": null,
   "metadata": {},
   "outputs": [],
   "source": [
    "bank_df = df.copy()"
   ]
  },
  {
   "cell_type": "code",
   "execution_count": null,
   "metadata": {},
   "outputs": [],
   "source": [
    "bank_df.info()"
   ]
  },
  {
   "cell_type": "code",
   "execution_count": null,
   "metadata": {},
   "outputs": [],
   "source": [
    "bank_df.describe()"
   ]
  },
  {
   "cell_type": "code",
   "execution_count": null,
   "metadata": {},
   "outputs": [],
   "source": [
    "# Removing the outliers\n",
    "first_quartile = df['age'].quantile(.25)\n",
    "third_quartile = df['age'].quantile(.75)\n",
    "iqr = third_quartile - first_quartile\n",
    "lower_quartile = first_quartile - 1.5 *iqr\n",
    "upper_quartile = third_quartile + 1.5 * iqr\n",
    "bank_df = df.loc[(df['age']> lower_quartile) & (df['age']<upper_quartile)]"
   ]
  },
  {
   "cell_type": "code",
   "execution_count": null,
   "metadata": {},
   "outputs": [],
   "source": [
    "print(bank_df[\"age\"].max())\n",
    "print(bank_df[\"age\"].min())"
   ]
  },
  {
   "cell_type": "code",
   "execution_count": null,
   "metadata": {},
   "outputs": [],
   "source": [
    "df[\"duration\"].hist(bins=10)"
   ]
  },
  {
   "cell_type": "code",
   "execution_count": null,
   "metadata": {},
   "outputs": [],
   "source": [
    "# Removing outliers from duration\n",
    "print(bank_df[\"duration\"].max())\n",
    "print(bank_df[\"duration\"].min())\n",
    "first_quartile = bank_df['duration'].quantile(.25)\n",
    "third_quartile = bank_df['duration'].quantile(.75)\n",
    "iqr = third_quartile - first_quartile\n",
    "lower_quartile = first_quartile - 1.5 * iqr\n",
    "upper_quartile = third_quartile + 1.5 * iqr\n",
    "bank_df = df.loc[(df['duration']> lower_quartile) & (df['duration']< upper_quartile)]"
   ]
  },
  {
   "cell_type": "code",
   "execution_count": null,
   "metadata": {},
   "outputs": [],
   "source": [
    "bank_df[\"duration\"].hist(bins=10)\n",
    "print(bank_df[\"duration\"].max())\n",
    "print(bank_df[\"duration\"].min())"
   ]
  },
  {
   "cell_type": "code",
   "execution_count": null,
   "metadata": {},
   "outputs": [],
   "source": [
    "print(bank_df[\"campaign\"].max())\n",
    "print(bank_df[\"campaign\"].min())"
   ]
  },
  {
   "cell_type": "code",
   "execution_count": null,
   "metadata": {},
   "outputs": [],
   "source": [
    "# Remove outliers from the numerical column - campaign using IQR\n",
    "first_quartile = bank_df['campaign'].quantile(.25)\n",
    "third_quartile = bank_df['campaign'].quantile(.75)\n",
    "iqr = third_quartile - first_quartile\n",
    "lower_quartile = first_quartile - 1.5 * iqr\n",
    "upper_quartile = third_quartile + 1.5 * iqr\n",
    "bank_df = df.loc[(df['campaign']> lower_quartile) & (df['campaign']< upper_quartile)]\n",
    "bank_df[\"campaign\"].hist(bins=10)"
   ]
  },
  {
   "cell_type": "code",
   "execution_count": null,
   "metadata": {},
   "outputs": [],
   "source": [
    "bank_df.hist(bins=30, figsize=(12, 10))"
   ]
  },
  {
   "cell_type": "code",
   "execution_count": null,
   "metadata": {},
   "outputs": [],
   "source": [
    "# Campaign Acceptance rate based of Number of contact performed\n",
    "fig, ax = plt.subplots(figsize=(10,5))\n",
    "sns.countplot(data=bank_df, x='campaign', hue='y')\n",
    "plt.title(\"Campaign Acceptance Rate based on Number of Contacts Performed\")"
   ]
  },
  {
   "cell_type": "code",
   "execution_count": null,
   "metadata": {},
   "outputs": [],
   "source": [
    "# Campaign Acceptance rate based of Number of contact performed\n",
    "fig, ax = plt.subplots(figsize=(10,5))\n",
    "sns.countplot(data=bank_df, x='campaign', hue='y')\n",
    "plt.title(\"Campaign Acceptance Rate based on Number of Contacts Performed\")"
   ]
  },
  {
   "cell_type": "code",
   "execution_count": null,
   "metadata": {},
   "outputs": [],
   "source": [
    "# Campaign Acceptance rate based of jobs\n",
    "fig, ax = plt.subplots(figsize=(10,5))\n",
    "plt.setp(plt.xticks()[1], rotation=45)\n",
    "sns.countplot(data=bank_df, x='job', hue='y')\n",
    "plt.title(\"Campaign Acceptance Rate based on Jobs Performed\")"
   ]
  },
  {
   "cell_type": "code",
   "execution_count": null,
   "metadata": {},
   "outputs": [],
   "source": [
    "# Campaign Acceptance rate based of Marital Status\n",
    "fig, ax = plt.subplots(figsize=(10,5))\n",
    "plt.setp(plt.xticks()[1], rotation=45)\n",
    "sns.countplot(data=bank_df, x='marital', hue='y')\n",
    "plt.title(\"Campaign Acceptance Rate based on Number of Marital Status\")"
   ]
  },
  {
   "cell_type": "code",
   "execution_count": null,
   "metadata": {},
   "outputs": [],
   "source": [
    "# Campaign Acceptance rate based of Education\n",
    "fig, ax = plt.subplots(figsize=(10,5))\n",
    "plt.setp(plt.xticks()[1], rotation=45)\n",
    "sns.countplot(data=bank_df, x='education', hue='y')\n",
    "plt.title(\"Campaign Acceptance Rate based on Education\")"
   ]
  },
  {
   "cell_type": "code",
   "execution_count": null,
   "metadata": {},
   "outputs": [],
   "source": [
    "# Campaign Acceptance rate based of Education\n",
    "fig, ax = plt.subplots(figsize=(10,5))\n",
    "plt.setp(plt.xticks()[1], rotation=45)\n",
    "sns.countplot(data=bank_df, x='loan', hue='y')\n",
    "plt.title(\"Campaign Acceptance Rate based on loan\")"
   ]
  },
  {
   "cell_type": "code",
   "execution_count": null,
   "metadata": {},
   "outputs": [],
   "source": [
    "# Campaign Acceptance rate based of Education\n",
    "fig, ax = plt.subplots(figsize=(10,5))\n",
    "plt.setp(plt.xticks()[1], rotation=45)\n",
    "sns.countplot(data=bank_df, x='poutcome', hue='y')\n",
    "plt.title(\"Campaign Acceptance Rate based on outcome\")"
   ]
  },
  {
   "cell_type": "markdown",
   "metadata": {},
   "source": [
    "### Problem 5: Engineering Features\n",
    "\n",
    "Now that you understand your business objective, we will build a basic model to get started.  Before we can do this, we must work to encode the data.  Using just the bank information features (columns 1 - 7), prepare the features and target column for modeling with appropriate encoding and transformations."
   ]
  },
  {
   "cell_type": "code",
   "execution_count": null,
   "metadata": {},
   "outputs": [],
   "source": [
    "#Converting Categorical Columns to Numerical Columns using Target Encoder\n",
    "encoder = preprocessing.LabelEncoder()\n",
    "encoder_df = bank_df.copy()\n",
    "def target_encoder(data):\n",
    "    impute_ordinal = encoder.fit_transform(data)\n",
    "    data.loc[data.notnull()] = np.squeeze(impute_ordinal)\n",
    "    return data\n",
    "\n",
    "for i in tqdm(range(len(cat_cols))):\n",
    "    target_encoder(encoder_df[cat_cols[i]])"
   ]
  },
  {
   "cell_type": "code",
   "execution_count": null,
   "metadata": {},
   "outputs": [],
   "source": [
    "encoder_df.describe()\n"
   ]
  },
  {
   "cell_type": "code",
   "execution_count": null,
   "metadata": {},
   "outputs": [],
   "source": [
    "encoder_df = encoder_df.drop('duration', axis=1) \n"
   ]
  },
  {
   "cell_type": "code",
   "execution_count": null,
   "metadata": {},
   "outputs": [],
   "source": [
    "encoder_df.reset_index()"
   ]
  },
  {
   "cell_type": "code",
   "execution_count": null,
   "metadata": {},
   "outputs": [],
   "source": [
    "#standardizing the dataset\n",
    "scaler = preprocessing.StandardScaler()\n",
    "std_df = scaler.fit_transform(encoder_df.drop(['job', 'marital', 'education', 'default', 'housing', 'loan', 'contact','month', 'day_of_week','campaign', 'previous', 'poutcome', 'emp.var.rate','y'], axis=1))\n",
    "scaled_df = pd.DataFrame(std_df, columns=['age','pdays','cons.price.idx','cons.conf.idx','euribor3m','nr.employed'])\n"
   ]
  },
  {
   "cell_type": "code",
   "execution_count": null,
   "metadata": {},
   "outputs": [],
   "source": [
    "scaled_df = pd.DataFrame(std_df, columns=['age','pdays','cons.price.idx','cons.conf.idx','euribor3m','nr.employed'])\n"
   ]
  },
  {
   "cell_type": "code",
   "execution_count": null,
   "metadata": {},
   "outputs": [],
   "source": [
    "scaled_df['job'] = encoder_df['job'].values\n",
    "scaled_df['marital'] = encoder_df['marital'].values\n",
    "scaled_df['education'] = encoder_df['education'].values\n",
    "scaled_df['default'] = encoder_df['default'].values\n",
    "scaled_df['housing'] = encoder_df['housing'].values\n",
    "scaled_df['loan'] = encoder_df['loan'].values\n",
    "scaled_df['contact'] = encoder_df['contact'].values\n",
    "scaled_df['month'] = encoder_df['month'].values\n",
    "scaled_df['day_of_week'] = encoder_df['day_of_week'].values\n",
    "scaled_df['campaign'] = encoder_df['campaign'].values\n",
    "scaled_df['previous'] = encoder_df['previous'].values\n",
    "scaled_df['poutcome'] = encoder_df['poutcome'].values\n",
    "scaled_df['emp.var.rate'] = encoder_df['emp.var.rate'].values\n",
    "scaled_df['y'] = encoder_df['y'].values"
   ]
  },
  {
   "cell_type": "code",
   "execution_count": null,
   "metadata": {},
   "outputs": [],
   "source": [
    "scaled_df.head()"
   ]
  },
  {
   "cell_type": "code",
   "execution_count": null,
   "metadata": {},
   "outputs": [],
   "source": [
    "scaled_df.describe()"
   ]
  },
  {
   "cell_type": "markdown",
   "metadata": {},
   "source": [
    "### Problem 6: Train/Test Split\n",
    "\n",
    "With your data prepared, split it into a train and test set."
   ]
  },
  {
   "cell_type": "code",
   "execution_count": null,
   "metadata": {},
   "outputs": [],
   "source": [
    "X = scaled_df.drop('y', axis=1)\n",
    "y = scaled_df[\"y\"].astype('int')\n",
    "print(X.shape)\n",
    "print(y.shape)\n"
   ]
  },
  {
   "cell_type": "code",
   "execution_count": null,
   "metadata": {},
   "outputs": [],
   "source": [
    "X_train,X_test, y_train, y_test = train_test_split(X, y, test_size=0.33, random_state=42)"
   ]
  },
  {
   "cell_type": "code",
   "execution_count": null,
   "metadata": {},
   "outputs": [],
   "source": [
    "print(X_train.shape)\n",
    "print(y_train.shape)\n",
    "print(X_test.shape)\n",
    "print(y_test.shape)"
   ]
  },
  {
   "cell_type": "code",
   "execution_count": null,
   "metadata": {},
   "outputs": [],
   "source": []
  },
  {
   "cell_type": "markdown",
   "metadata": {},
   "source": [
    "### Problem 7: A Baseline Model\n",
    "\n",
    "Before we build our first model, we want to establish a baseline.  What is the baseline performance that our classifier should aim to beat?"
   ]
  },
  {
   "cell_type": "code",
   "execution_count": null,
   "metadata": {},
   "outputs": [],
   "source": [
    "models = ['Baseline']\n",
    "train_time = []\n",
    "train_accuracy = []\n",
    "test_accuracy = []\n",
    "accuracy_score = []\n",
    "AUC_score = []"
   ]
  },
  {
   "cell_type": "code",
   "execution_count": null,
   "metadata": {},
   "outputs": [],
   "source": [
    "# Baseline Model\n",
    "dummy_clf = DummyClassifier( random_state=42)\n",
    "start_time = time()\n",
    "dummy_clf.fit(X_train, y_train)\n",
    "train_time.append(time() - start_time)\n",
    "# Training\n",
    "y_preds = dummy_clf.predict(X_train)\n",
    "training_score = dummy_clf.score(X_train, y_train)\n",
    "train_accuracy.append('training_score')\n",
    "# Test score\n",
    "y_preds_test = dummy_clf.predict(X_test)\n",
    "test_score = dummy_clf.score(X_test, y_test)\n",
    "test_accuracy.append(test_score)\n",
    "accuracy_score.append('N/A')\n",
    "AUC_score.append('N/A')\n"
   ]
  },
  {
   "cell_type": "markdown",
   "metadata": {},
   "source": [
    "### Problem 8: A Simple Model\n",
    "\n",
    "Use Logistic Regression to build a basic model on your data.  "
   ]
  },
  {
   "cell_type": "code",
   "execution_count": null,
   "metadata": {},
   "outputs": [],
   "source": [
    "# Logistics Regression Model \n",
    "models.append('Logistics Regression')\n",
    "log_reg = LogisticRegression(solver='liblinear', random_state=42)\n",
    "start_time = time()\n",
    "log_reg.fit(X_train, y_train)\n",
    "train_time.append(time() - start_time)\n",
    "y_train_preds = log_reg.predict(X_train)\n",
    "y_test_preds = log_reg.predict(X_test)\n"
   ]
  },
  {
   "cell_type": "markdown",
   "metadata": {},
   "source": [
    "### Problem 9: Score the Model\n",
    "\n",
    "What is the accuracy of your model?"
   ]
  },
  {
   "cell_type": "code",
   "execution_count": null,
   "metadata": {},
   "outputs": [],
   "source": [
    "train_score = log_reg.score(X_train, y_train)\n",
    "train_accuracy.append(train_score)\n",
    "test_accuracy.append(log_reg.score(X_test, y_test))\n",
    "#accuracy scores\n",
    "accuracy_score.append(metrics.accuracy_score(y_test, y_pred))\n",
    "fpr, tpr, _thresholds = metrics.roc_curve(y_test, y_pred)\n",
    "AUC_score.append(metrics.auc(fpr, tpr))\n"
   ]
  },
  {
   "cell_type": "code",
   "execution_count": null,
   "metadata": {},
   "outputs": [],
   "source": [
    "from sklearn.metrics import confusion_matrix\n",
    "confusion_matrix = confusion_matrix(y_test, y_test_preds)\n",
    "print(confusion_matrix)"
   ]
  },
  {
   "cell_type": "code",
   "execution_count": null,
   "metadata": {},
   "outputs": [],
   "source": [
    "disp = ConfusionMatrixDisplay(confusion_matrix=confusion_matrix)\n",
    "disp.plot()"
   ]
  },
  {
   "cell_type": "markdown",
   "metadata": {},
   "source": [
    "### Problem 10: Model Comparisons\n",
    "\n",
    "Now, we aim to compare the performance of the Logistic Regression model to our KNN algorithm, Decision Tree, and SVM models.  Using the default settings for each of the models, fit and score each.  Also, be sure to compare the fit time of each of the models.  Present your findings in a `DataFrame` similar to that below:\n",
    "\n",
    "| Model | Train Time | Train Accuracy | Test Accuracy |\n",
    "| ----- | ---------- | -------------  | -----------   |\n",
    "|     |    |.     |.     |"
   ]
  },
  {
   "cell_type": "markdown",
   "metadata": {},
   "source": [
    "### RandomForestClassifier"
   ]
  },
  {
   "cell_type": "code",
   "execution_count": null,
   "metadata": {},
   "outputs": [],
   "source": [
    "models.append('RandomForestClassifier')\n",
    "rand_clf = RandomForestClassifier(random_state=42)\n",
    "start_time = time()\n",
    "rand_clf.fit(X_train, y_train)\n",
    "train_time.append(time() - start_time)\n",
    "y_pred = rand_clf.predict(X_test)"
   ]
  },
  {
   "cell_type": "code",
   "execution_count": null,
   "metadata": {},
   "outputs": [],
   "source": [
    "# Scoring the model\n",
    "train_score = rand_clf.score(X_train, y_train)\n",
    "train_accuracy.append(train_score)\n",
    "test_accuracy.append(rand_clf.score(X_test, y_test))\n",
    "#accuracy scores\n",
    "accuracy_score.append(metrics.accuracy_score(y_test, y_pred))\n",
    "fpr, tpr, _thresholds = metrics.roc_curve(y_test, y_pred)\n",
    "AUC_score.append(metrics.auc(fpr, tpr))\n",
    "\n",
    "\n"
   ]
  },
  {
   "cell_type": "code",
   "execution_count": null,
   "metadata": {},
   "outputs": [],
   "source": [
    "cm = metrics.confusion_matrix(y_test, y_pred)\n",
    "disp = ConfusionMatrixDisplay(confusion_matrix=cm)\n",
    "disp.plot()"
   ]
  },
  {
   "cell_type": "markdown",
   "metadata": {},
   "source": [
    "### KNeighborsClassifier"
   ]
  },
  {
   "cell_type": "code",
   "execution_count": null,
   "metadata": {},
   "outputs": [],
   "source": [
    "models.append('KNeighborsClassifier')\n",
    "knn = KNeighborsClassifier()\n",
    "start_time = time()\n",
    "knn.fit(X_train, y_train)\n",
    "train_time.append(time() - start_time)\n",
    "y_pred = knn.predict(X_test)\n",
    "\n"
   ]
  },
  {
   "cell_type": "code",
   "execution_count": null,
   "metadata": {},
   "outputs": [],
   "source": [
    "# Scoring the model\n",
    "train_score = knn.score(X_train, y_train)\n",
    "train_accuracy.append(train_score)\n",
    "test_accuracy.append(knn.score(X_test, y_test))\n",
    "#accuracy scores\n",
    "accuracy_score.append(metrics.accuracy_score(y_test, y_pred))\n",
    "fpr, tpr, _thresholds = metrics.roc_curve(y_test, y_pred)\n",
    "AUC_score.append(metrics.auc(fpr, tpr))"
   ]
  },
  {
   "cell_type": "code",
   "execution_count": null,
   "metadata": {},
   "outputs": [],
   "source": [
    "cm = metrics.confusion_matrix(y_test, y_pred)\n",
    "disp = ConfusionMatrixDisplay(confusion_matrix=cm)\n",
    "disp.plot()"
   ]
  },
  {
   "cell_type": "markdown",
   "metadata": {},
   "source": [
    "### SVC"
   ]
  },
  {
   "cell_type": "code",
   "execution_count": null,
   "metadata": {},
   "outputs": [],
   "source": [
    "models.append('SVC')\n",
    "svc = SVC()\n",
    "start_time = time()\n",
    "svc.fit(X_train, y_train)\n",
    "train_time.append(time() - start_time)\n",
    "y_pred = svc.predict(X_test)"
   ]
  },
  {
   "cell_type": "code",
   "execution_count": null,
   "metadata": {},
   "outputs": [],
   "source": [
    "# Scoring the model\n",
    "train_score = svc.score(X_train, y_train)\n",
    "train_accuracy.append(train_score)\n",
    "test_accuracy.append(svc.score(X_test, y_test))\n",
    "#accuracy scores\n",
    "accuracy_score.append(metrics.accuracy_score(y_test, y_pred))\n",
    "fpr, tpr, _thresholds = metrics.roc_curve(y_test, y_pred)\n",
    "AUC_score.append(metrics.auc(fpr, tpr))"
   ]
  },
  {
   "cell_type": "code",
   "execution_count": null,
   "metadata": {},
   "outputs": [],
   "source": [
    "cm = metrics.confusion_matrix(y_test, y_pred)\n",
    "disp = ConfusionMatrixDisplay(confusion_matrix=cm)\n",
    "disp.plot()"
   ]
  },
  {
   "cell_type": "code",
   "execution_count": null,
   "metadata": {},
   "outputs": [],
   "source": [
    "model_artifacts = pd.DataFrame({'Model':models, \n",
    "                                'Training_Time':train_time, \n",
    "                                'Training_Score': train_accuracy, \n",
    "                                'Test_Score':test_accuracy,\n",
    "                                'Accuracy': accuracy_score,\n",
    "                                'AUC': AUC_score})\n",
    "model_artifacts"
   ]
  },
  {
   "cell_type": "markdown",
   "metadata": {},
   "source": [
    "### Problem 11: Improving the Model\n",
    "\n",
    "Now that we have some basic models on the board, we want to try to improve these.  Below, we list a few things to explore in this pursuit.\n",
    "\n",
    "- More feature engineering and exploration.  For example, should we keep the gender feature?  Why or why not?\n",
    "- Hyperparameter tuning and grid search.  All of our models have additional hyperparameters to tune and explore.  For example the number of neighbors in KNN or the maximum depth of a Decision Tree.  \n",
    "- Adjust your performance metric"
   ]
  },
  {
   "cell_type": "markdown",
   "metadata": {},
   "source": [
    "<b>Logistics Regression models training, test, AUC scores better than other models. Optimizing Logistics Regression models to improve further.</b>"
   ]
  },
  {
   "cell_type": "code",
   "execution_count": null,
   "metadata": {},
   "outputs": [],
   "source": [
    "grid={\"C\":np.logspace(-3,3,7), \"penalty\":[\"l1\",\"l2\"]}\n",
    "log_reg = LogisticRegression()\n",
    "lgr_cv=GridSearchCV(lgr, grid, cv=10)\n",
    "lgr_cv.fit(X_train, y_train)"
   ]
  },
  {
   "cell_type": "code",
   "execution_count": null,
   "metadata": {},
   "outputs": [],
   "source": [
    "lgr_cv.best_params_"
   ]
  },
  {
   "cell_type": "code",
   "execution_count": null,
   "metadata": {},
   "outputs": [],
   "source": [
    "#Adjust Performance Metrics\n",
    "lgr2=LogisticRegression(C=0.1, penalty=\"l2\", solver='liblinear') \n",
    "start_time = time()\n",
    "lgr2.fit(X_train,y_train)\n",
    "train_time = time() - start_time"
   ]
  },
  {
   "cell_type": "code",
   "execution_count": null,
   "metadata": {},
   "outputs": [],
   "source": [
    "y_pred = lgr2.predict(X_test)"
   ]
  },
  {
   "cell_type": "code",
   "execution_count": null,
   "metadata": {},
   "outputs": [],
   "source": [
    "cm = metrics.confusion_matrix(y_test, y_pred)"
   ]
  },
  {
   "cell_type": "code",
   "execution_count": null,
   "metadata": {},
   "outputs": [],
   "source": [
    "disp = ConfusionMatrixDisplay(confusion_matrix=cm)\n",
    "disp.plot()"
   ]
  },
  {
   "cell_type": "code",
   "execution_count": null,
   "metadata": {},
   "outputs": [],
   "source": [
    "from sklearn.metrics import classification_report, precision_score, recall_score, f1_score\n",
    "print('Precision    : %.3f'%precision_score(y_test, y_pred))\n",
    "print('Recall       : %.3f'%recall_score(y_test, y_pred))\n",
    "print('F1 Score     : %.3f'%f1_score(y_test, y_pred))"
   ]
  },
  {
   "cell_type": "code",
   "execution_count": null,
   "metadata": {},
   "outputs": [],
   "source": []
  },
  {
   "cell_type": "code",
   "execution_count": null,
   "metadata": {},
   "outputs": [],
   "source": []
  },
  {
   "cell_type": "code",
   "execution_count": null,
   "metadata": {},
   "outputs": [],
   "source": []
  },
  {
   "cell_type": "markdown",
   "metadata": {},
   "source": [
    "##### Questions"
   ]
  }
 ],
 "metadata": {
  "kernelspec": {
   "display_name": "Python 3",
   "language": "python",
   "name": "python3"
  },
  "language_info": {
   "codemirror_mode": {
    "name": "ipython",
    "version": 3
   },
   "file_extension": ".py",
   "mimetype": "text/x-python",
   "name": "python",
   "nbconvert_exporter": "python",
   "pygments_lexer": "ipython3",
   "version": "3.8.10"
  },
  "widgets": {
   "application/vnd.jupyter.widget-state+json": {
    "state": {},
    "version_major": 2,
    "version_minor": 0
   }
  }
 },
 "nbformat": 4,
 "nbformat_minor": 4
}
